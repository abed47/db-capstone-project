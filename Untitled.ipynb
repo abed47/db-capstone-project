{
 "cells": [
  {
   "cell_type": "code",
   "execution_count": 31,
   "id": "e314a346",
   "metadata": {},
   "outputs": [],
   "source": [
    "import mysql.connector as connector"
   ]
  },
  {
   "cell_type": "code",
   "execution_count": 32,
   "id": "00431cb9",
   "metadata": {},
   "outputs": [],
   "source": [
    "connection = connector.connect(user = \"newuser2\", password = \"123123Ok\", database=\"littleLemonEm\")"
   ]
  },
  {
   "cell_type": "code",
   "execution_count": 33,
   "id": "3bd1859f",
   "metadata": {},
   "outputs": [],
   "source": [
    "cursor = connection.cursor()"
   ]
  },
  {
   "cell_type": "code",
   "execution_count": 36,
   "id": "e308dd98",
   "metadata": {},
   "outputs": [],
   "source": [
    "show_tables_query = \"Show tables\" \n",
    "cursor.execute(show_tables_query)"
   ]
  },
  {
   "cell_type": "code",
   "execution_count": 37,
   "id": "a70fae3a",
   "metadata": {},
   "outputs": [
    {
     "name": "stdout",
     "output_type": "stream",
     "text": [
      "('bookings',)\n",
      "('customers',)\n",
      "('employees',)\n",
      "('Menu',)\n",
      "('menu_items',)\n",
      "('order_delivery_status',)\n",
      "('orders',)\n",
      "('ordersview',)\n"
     ]
    }
   ],
   "source": [
    "for table_name in cursor:\n",
    "   print(table_name)"
   ]
  },
  {
   "cell_type": "code",
   "execution_count": null,
   "id": "26f39059",
   "metadata": {},
   "outputs": [],
   "source": [
    "get_queries = \"SELECT \n",
    "CONCAT(c.first_name, \" \", c.last_name) as \"FullName\",\n",
    "c.phone as \"ContactNumber\",\n",
    "o.total_cost as \"Cost\"\n",
    "from orders o\n",
    "left join customers c on c.customer_id = o.customer_id \n",
    "where o.total_cost >= 60\"\n",
    "cursor.execute(get_queries)"
   ]
  },
  {
   "cell_type": "code",
   "execution_count": null,
   "id": "d5fe199a",
   "metadata": {},
   "outputs": [],
   "source": []
  },
  {
   "cell_type": "code",
   "execution_count": null,
   "id": "39db7384",
   "metadata": {},
   "outputs": [],
   "source": []
  }
 ],
 "metadata": {
  "kernelspec": {
   "display_name": "Python 3 (ipykernel)",
   "language": "python",
   "name": "python3"
  },
  "language_info": {
   "codemirror_mode": {
    "name": "ipython",
    "version": 3
   },
   "file_extension": ".py",
   "mimetype": "text/x-python",
   "name": "python",
   "nbconvert_exporter": "python",
   "pygments_lexer": "ipython3",
   "version": "3.9.16"
  }
 },
 "nbformat": 4,
 "nbformat_minor": 5
}
